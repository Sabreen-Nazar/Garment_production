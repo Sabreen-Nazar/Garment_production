{
 "cells": [
  {
   "cell_type": "code",
   "execution_count": 3,
   "id": "71bf102f",
   "metadata": {},
   "outputs": [],
   "source": [
    "import pandas as pd\n",
    "import numpy as np\n",
    "import matplotlib.pyplot as plt\n",
    "import seaborn as sns\n",
    "import warnings\n",
    "warnings.filterwarnings('ignore')\n",
    "from tabulate import tabulate\n",
    "from sklearn.model_selection import GridSearchCV\n",
    "from sklearn.model_selection import cross_val_score\n",
    "from sklearn.model_selection import KFold"
   ]
  },
  {
   "cell_type": "code",
   "execution_count": 4,
   "id": "cc9242e5",
   "metadata": {},
   "outputs": [],
   "source": [
    "df = pd.read_csv(\"garments_worker_productivity.csv\")"
   ]
  },
  {
   "cell_type": "code",
   "execution_count": 5,
   "id": "d8a13371",
   "metadata": {},
   "outputs": [
    {
     "data": {
      "text/plain": [
       "Index(['date', 'quarter', 'department', 'day', 'team', 'targeted_productivity',\n",
       "       'smv', 'wip', 'over_time', 'incentive', 'idle_time', 'idle_men',\n",
       "       'no_of_style_change', 'no_of_workers', 'actual_productivity'],\n",
       "      dtype='object')"
      ]
     },
     "execution_count": 5,
     "metadata": {},
     "output_type": "execute_result"
    }
   ],
   "source": [
    "df.columns"
   ]
  },
  {
   "cell_type": "code",
   "execution_count": 6,
   "id": "eb3189ad",
   "metadata": {},
   "outputs": [
    {
     "data": {
      "text/html": [
       "<div>\n",
       "<style scoped>\n",
       "    .dataframe tbody tr th:only-of-type {\n",
       "        vertical-align: middle;\n",
       "    }\n",
       "\n",
       "    .dataframe tbody tr th {\n",
       "        vertical-align: top;\n",
       "    }\n",
       "\n",
       "    .dataframe thead th {\n",
       "        text-align: right;\n",
       "    }\n",
       "</style>\n",
       "<table border=\"1\" class=\"dataframe\">\n",
       "  <thead>\n",
       "    <tr style=\"text-align: right;\">\n",
       "      <th></th>\n",
       "      <th>date</th>\n",
       "      <th>quarter</th>\n",
       "      <th>department</th>\n",
       "      <th>day</th>\n",
       "      <th>team</th>\n",
       "      <th>targeted_productivity</th>\n",
       "      <th>smv</th>\n",
       "      <th>wip</th>\n",
       "      <th>over_time</th>\n",
       "      <th>incentive</th>\n",
       "      <th>idle_time</th>\n",
       "      <th>idle_men</th>\n",
       "      <th>no_of_style_change</th>\n",
       "      <th>no_of_workers</th>\n",
       "      <th>actual_productivity</th>\n",
       "    </tr>\n",
       "  </thead>\n",
       "  <tbody>\n",
       "    <tr>\n",
       "      <th>0</th>\n",
       "      <td>1/1/2015</td>\n",
       "      <td>Quarter1</td>\n",
       "      <td>sweing</td>\n",
       "      <td>Thursday</td>\n",
       "      <td>8</td>\n",
       "      <td>0.80</td>\n",
       "      <td>26.16</td>\n",
       "      <td>1108.0</td>\n",
       "      <td>7080</td>\n",
       "      <td>98</td>\n",
       "      <td>0.0</td>\n",
       "      <td>0</td>\n",
       "      <td>0</td>\n",
       "      <td>59.0</td>\n",
       "      <td>0.940725</td>\n",
       "    </tr>\n",
       "    <tr>\n",
       "      <th>1</th>\n",
       "      <td>1/1/2015</td>\n",
       "      <td>Quarter1</td>\n",
       "      <td>finishing</td>\n",
       "      <td>Thursday</td>\n",
       "      <td>1</td>\n",
       "      <td>0.75</td>\n",
       "      <td>3.94</td>\n",
       "      <td>NaN</td>\n",
       "      <td>960</td>\n",
       "      <td>0</td>\n",
       "      <td>0.0</td>\n",
       "      <td>0</td>\n",
       "      <td>0</td>\n",
       "      <td>8.0</td>\n",
       "      <td>0.886500</td>\n",
       "    </tr>\n",
       "    <tr>\n",
       "      <th>2</th>\n",
       "      <td>1/1/2015</td>\n",
       "      <td>Quarter1</td>\n",
       "      <td>sweing</td>\n",
       "      <td>Thursday</td>\n",
       "      <td>11</td>\n",
       "      <td>0.80</td>\n",
       "      <td>11.41</td>\n",
       "      <td>968.0</td>\n",
       "      <td>3660</td>\n",
       "      <td>50</td>\n",
       "      <td>0.0</td>\n",
       "      <td>0</td>\n",
       "      <td>0</td>\n",
       "      <td>30.5</td>\n",
       "      <td>0.800570</td>\n",
       "    </tr>\n",
       "    <tr>\n",
       "      <th>3</th>\n",
       "      <td>1/1/2015</td>\n",
       "      <td>Quarter1</td>\n",
       "      <td>sweing</td>\n",
       "      <td>Thursday</td>\n",
       "      <td>12</td>\n",
       "      <td>0.80</td>\n",
       "      <td>11.41</td>\n",
       "      <td>968.0</td>\n",
       "      <td>3660</td>\n",
       "      <td>50</td>\n",
       "      <td>0.0</td>\n",
       "      <td>0</td>\n",
       "      <td>0</td>\n",
       "      <td>30.5</td>\n",
       "      <td>0.800570</td>\n",
       "    </tr>\n",
       "    <tr>\n",
       "      <th>4</th>\n",
       "      <td>1/1/2015</td>\n",
       "      <td>Quarter1</td>\n",
       "      <td>sweing</td>\n",
       "      <td>Thursday</td>\n",
       "      <td>6</td>\n",
       "      <td>0.80</td>\n",
       "      <td>25.90</td>\n",
       "      <td>1170.0</td>\n",
       "      <td>1920</td>\n",
       "      <td>50</td>\n",
       "      <td>0.0</td>\n",
       "      <td>0</td>\n",
       "      <td>0</td>\n",
       "      <td>56.0</td>\n",
       "      <td>0.800382</td>\n",
       "    </tr>\n",
       "  </tbody>\n",
       "</table>\n",
       "</div>"
      ],
      "text/plain": [
       "       date   quarter  department       day  team  targeted_productivity  \\\n",
       "0  1/1/2015  Quarter1      sweing  Thursday     8                   0.80   \n",
       "1  1/1/2015  Quarter1  finishing   Thursday     1                   0.75   \n",
       "2  1/1/2015  Quarter1      sweing  Thursday    11                   0.80   \n",
       "3  1/1/2015  Quarter1      sweing  Thursday    12                   0.80   \n",
       "4  1/1/2015  Quarter1      sweing  Thursday     6                   0.80   \n",
       "\n",
       "     smv     wip  over_time  incentive  idle_time  idle_men  \\\n",
       "0  26.16  1108.0       7080         98        0.0         0   \n",
       "1   3.94     NaN        960          0        0.0         0   \n",
       "2  11.41   968.0       3660         50        0.0         0   \n",
       "3  11.41   968.0       3660         50        0.0         0   \n",
       "4  25.90  1170.0       1920         50        0.0         0   \n",
       "\n",
       "   no_of_style_change  no_of_workers  actual_productivity  \n",
       "0                   0           59.0             0.940725  \n",
       "1                   0            8.0             0.886500  \n",
       "2                   0           30.5             0.800570  \n",
       "3                   0           30.5             0.800570  \n",
       "4                   0           56.0             0.800382  "
      ]
     },
     "execution_count": 6,
     "metadata": {},
     "output_type": "execute_result"
    }
   ],
   "source": [
    "df.head()"
   ]
  },
  {
   "cell_type": "markdown",
   "id": "170930db",
   "metadata": {},
   "source": [
    "# EDA "
   ]
  },
  {
   "cell_type": "code",
   "execution_count": 7,
   "id": "53f35de5",
   "metadata": {},
   "outputs": [
    {
     "name": "stdout",
     "output_type": "stream",
     "text": [
      "shape of data: (1197, 15)\n",
      "************\n",
      "Missing values /n date                       0\n",
      "quarter                    0\n",
      "department                 0\n",
      "day                        0\n",
      "team                       0\n",
      "targeted_productivity      0\n",
      "smv                        0\n",
      "wip                      506\n",
      "over_time                  0\n",
      "incentive                  0\n",
      "idle_time                  0\n",
      "idle_men                   0\n",
      "no_of_style_change         0\n",
      "no_of_workers              0\n",
      "actual_productivity        0\n",
      "dtype: int64\n",
      "************\n",
      "<class 'pandas.core.frame.DataFrame'>\n",
      "RangeIndex: 1197 entries, 0 to 1196\n",
      "Data columns (total 15 columns):\n",
      " #   Column                 Non-Null Count  Dtype  \n",
      "---  ------                 --------------  -----  \n",
      " 0   date                   1197 non-null   object \n",
      " 1   quarter                1197 non-null   object \n",
      " 2   department             1197 non-null   object \n",
      " 3   day                    1197 non-null   object \n",
      " 4   team                   1197 non-null   int64  \n",
      " 5   targeted_productivity  1197 non-null   float64\n",
      " 6   smv                    1197 non-null   float64\n",
      " 7   wip                    691 non-null    float64\n",
      " 8   over_time              1197 non-null   int64  \n",
      " 9   incentive              1197 non-null   int64  \n",
      " 10  idle_time              1197 non-null   float64\n",
      " 11  idle_men               1197 non-null   int64  \n",
      " 12  no_of_style_change     1197 non-null   int64  \n",
      " 13  no_of_workers          1197 non-null   float64\n",
      " 14  actual_productivity    1197 non-null   float64\n",
      "dtypes: float64(6), int64(5), object(4)\n",
      "memory usage: 140.4+ KB\n",
      "None\n"
     ]
    }
   ],
   "source": [
    "print(\"shape of data:\" , df.shape)\n",
    "\n",
    "print(\"************\")\n",
    "\n",
    "print(\"Missing values\",\"/n\",df.isna().sum())\n",
    "\n",
    "print(\"************\")\n",
    "\n",
    "print(df.info())"
   ]
  },
  {
   "cell_type": "code",
   "execution_count": 8,
   "id": "b4a21fed",
   "metadata": {},
   "outputs": [],
   "source": [
    "df.drop(columns = [\"date\"] , inplace = True)"
   ]
  },
  {
   "cell_type": "markdown",
   "id": "0a381a36",
   "metadata": {},
   "source": [
    "#  Handling Missing Value"
   ]
  },
  {
   "cell_type": "raw",
   "id": "d9df5f90",
   "metadata": {},
   "source": [
    "# There is missing value in Work in Progress column \n",
    "# Which means number of unfinished items \n",
    "# Trying to fill it with 0"
   ]
  },
  {
   "cell_type": "code",
   "execution_count": 9,
   "id": "8b6f3d40",
   "metadata": {},
   "outputs": [
    {
     "data": {
      "text/plain": [
       "dtype('float64')"
      ]
     },
     "execution_count": 9,
     "metadata": {},
     "output_type": "execute_result"
    }
   ],
   "source": [
    "df[\"wip\"].dtypes"
   ]
  },
  {
   "cell_type": "code",
   "execution_count": 10,
   "id": "964413e2",
   "metadata": {},
   "outputs": [],
   "source": [
    "df[\"wip\"] = df[\"wip\"].fillna(0)"
   ]
  },
  {
   "cell_type": "code",
   "execution_count": 11,
   "id": "bd6f1d71",
   "metadata": {},
   "outputs": [],
   "source": [
    "df[\"wip\"] = df[\"wip\"].astype(\"int64\")"
   ]
  },
  {
   "cell_type": "code",
   "execution_count": 12,
   "id": "b9c4a0cd",
   "metadata": {},
   "outputs": [
    {
     "data": {
      "text/plain": [
       "quarter                  0\n",
       "department               0\n",
       "day                      0\n",
       "team                     0\n",
       "targeted_productivity    0\n",
       "smv                      0\n",
       "wip                      0\n",
       "over_time                0\n",
       "incentive                0\n",
       "idle_time                0\n",
       "idle_men                 0\n",
       "no_of_style_change       0\n",
       "no_of_workers            0\n",
       "actual_productivity      0\n",
       "dtype: int64"
      ]
     },
     "execution_count": 12,
     "metadata": {},
     "output_type": "execute_result"
    }
   ],
   "source": [
    "df.isna().sum()"
   ]
  },
  {
   "cell_type": "markdown",
   "id": "9ceccf91",
   "metadata": {},
   "source": [
    "#  Other columns Exploration"
   ]
  },
  {
   "cell_type": "code",
   "execution_count": 13,
   "id": "09064b12",
   "metadata": {},
   "outputs": [
    {
     "data": {
      "text/html": [
       "<div>\n",
       "<style scoped>\n",
       "    .dataframe tbody tr th:only-of-type {\n",
       "        vertical-align: middle;\n",
       "    }\n",
       "\n",
       "    .dataframe tbody tr th {\n",
       "        vertical-align: top;\n",
       "    }\n",
       "\n",
       "    .dataframe thead th {\n",
       "        text-align: right;\n",
       "    }\n",
       "</style>\n",
       "<table border=\"1\" class=\"dataframe\">\n",
       "  <thead>\n",
       "    <tr style=\"text-align: right;\">\n",
       "      <th></th>\n",
       "      <th>quarter</th>\n",
       "      <th>department</th>\n",
       "      <th>day</th>\n",
       "      <th>team</th>\n",
       "      <th>targeted_productivity</th>\n",
       "      <th>smv</th>\n",
       "      <th>wip</th>\n",
       "      <th>over_time</th>\n",
       "      <th>incentive</th>\n",
       "      <th>idle_time</th>\n",
       "      <th>idle_men</th>\n",
       "      <th>no_of_style_change</th>\n",
       "      <th>no_of_workers</th>\n",
       "      <th>actual_productivity</th>\n",
       "    </tr>\n",
       "  </thead>\n",
       "  <tbody>\n",
       "    <tr>\n",
       "      <th>0</th>\n",
       "      <td>Quarter1</td>\n",
       "      <td>sweing</td>\n",
       "      <td>Thursday</td>\n",
       "      <td>8</td>\n",
       "      <td>0.80</td>\n",
       "      <td>26.16</td>\n",
       "      <td>1108</td>\n",
       "      <td>7080</td>\n",
       "      <td>98</td>\n",
       "      <td>0.0</td>\n",
       "      <td>0</td>\n",
       "      <td>0</td>\n",
       "      <td>59.0</td>\n",
       "      <td>0.940725</td>\n",
       "    </tr>\n",
       "    <tr>\n",
       "      <th>1</th>\n",
       "      <td>Quarter1</td>\n",
       "      <td>finishing</td>\n",
       "      <td>Thursday</td>\n",
       "      <td>1</td>\n",
       "      <td>0.75</td>\n",
       "      <td>3.94</td>\n",
       "      <td>0</td>\n",
       "      <td>960</td>\n",
       "      <td>0</td>\n",
       "      <td>0.0</td>\n",
       "      <td>0</td>\n",
       "      <td>0</td>\n",
       "      <td>8.0</td>\n",
       "      <td>0.886500</td>\n",
       "    </tr>\n",
       "    <tr>\n",
       "      <th>2</th>\n",
       "      <td>Quarter1</td>\n",
       "      <td>sweing</td>\n",
       "      <td>Thursday</td>\n",
       "      <td>11</td>\n",
       "      <td>0.80</td>\n",
       "      <td>11.41</td>\n",
       "      <td>968</td>\n",
       "      <td>3660</td>\n",
       "      <td>50</td>\n",
       "      <td>0.0</td>\n",
       "      <td>0</td>\n",
       "      <td>0</td>\n",
       "      <td>30.5</td>\n",
       "      <td>0.800570</td>\n",
       "    </tr>\n",
       "    <tr>\n",
       "      <th>3</th>\n",
       "      <td>Quarter1</td>\n",
       "      <td>sweing</td>\n",
       "      <td>Thursday</td>\n",
       "      <td>12</td>\n",
       "      <td>0.80</td>\n",
       "      <td>11.41</td>\n",
       "      <td>968</td>\n",
       "      <td>3660</td>\n",
       "      <td>50</td>\n",
       "      <td>0.0</td>\n",
       "      <td>0</td>\n",
       "      <td>0</td>\n",
       "      <td>30.5</td>\n",
       "      <td>0.800570</td>\n",
       "    </tr>\n",
       "    <tr>\n",
       "      <th>4</th>\n",
       "      <td>Quarter1</td>\n",
       "      <td>sweing</td>\n",
       "      <td>Thursday</td>\n",
       "      <td>6</td>\n",
       "      <td>0.80</td>\n",
       "      <td>25.90</td>\n",
       "      <td>1170</td>\n",
       "      <td>1920</td>\n",
       "      <td>50</td>\n",
       "      <td>0.0</td>\n",
       "      <td>0</td>\n",
       "      <td>0</td>\n",
       "      <td>56.0</td>\n",
       "      <td>0.800382</td>\n",
       "    </tr>\n",
       "  </tbody>\n",
       "</table>\n",
       "</div>"
      ],
      "text/plain": [
       "    quarter  department       day  team  targeted_productivity    smv   wip  \\\n",
       "0  Quarter1      sweing  Thursday     8                   0.80  26.16  1108   \n",
       "1  Quarter1  finishing   Thursday     1                   0.75   3.94     0   \n",
       "2  Quarter1      sweing  Thursday    11                   0.80  11.41   968   \n",
       "3  Quarter1      sweing  Thursday    12                   0.80  11.41   968   \n",
       "4  Quarter1      sweing  Thursday     6                   0.80  25.90  1170   \n",
       "\n",
       "   over_time  incentive  idle_time  idle_men  no_of_style_change  \\\n",
       "0       7080         98        0.0         0                   0   \n",
       "1        960          0        0.0         0                   0   \n",
       "2       3660         50        0.0         0                   0   \n",
       "3       3660         50        0.0         0                   0   \n",
       "4       1920         50        0.0         0                   0   \n",
       "\n",
       "   no_of_workers  actual_productivity  \n",
       "0           59.0             0.940725  \n",
       "1            8.0             0.886500  \n",
       "2           30.5             0.800570  \n",
       "3           30.5             0.800570  \n",
       "4           56.0             0.800382  "
      ]
     },
     "execution_count": 13,
     "metadata": {},
     "output_type": "execute_result"
    }
   ],
   "source": [
    "df.head()"
   ]
  },
  {
   "cell_type": "code",
   "execution_count": 14,
   "id": "8ec54963",
   "metadata": {},
   "outputs": [
    {
     "data": {
      "text/plain": [
       "array(['Quarter1', 'Quarter2', 'Quarter3', 'Quarter4', 'Quarter5'],\n",
       "      dtype=object)"
      ]
     },
     "execution_count": 14,
     "metadata": {},
     "output_type": "execute_result"
    }
   ],
   "source": [
    "df[\"quarter\"].unique()"
   ]
  },
  {
   "cell_type": "code",
   "execution_count": 15,
   "id": "d7cf7d79",
   "metadata": {},
   "outputs": [
    {
     "data": {
      "text/plain": [
       "<Axes: xlabel='quarter', ylabel='count'>"
      ]
     },
     "execution_count": 15,
     "metadata": {},
     "output_type": "execute_result"
    },
    {
     "data": {
      "image/png": "[encoded data removed]",
      "text/plain": [
       "<Figure size 640x480 with 1 Axes>"
      ]
     },
     "metadata": {},
     "output_type": "display_data"
    }
   ],
   "source": [
    "value_quarter = pd.DataFrame(df[\"quarter\"].value_counts()).reset_index()\n",
    "value_quarter.columns = [\"quarter\" , 'count']\n",
    "#print(value_quarter)\n",
    "sns.barplot(data = value_quarter , x = 'quarter' , y = 'count')\n",
    "# sns.countplot(df[\"quarter\"])\n",
    "# plt.show()"
   ]
  },
  {
   "cell_type": "code",
   "execution_count": 16,
   "id": "d7653d08",
   "metadata": {},
   "outputs": [],
   "source": [
    "# Change Quarter5 to Quarter4\n",
    "df[\"quarter\"] = df[\"quarter\"].replace({\"Quarter5\" : \"Quarter4\"})"
   ]
  },
  {
   "cell_type": "code",
   "execution_count": 17,
   "id": "f8ee0550",
   "metadata": {},
   "outputs": [
    {
     "data": {
      "text/plain": [
       "array(['sweing', 'finishing ', 'finishing'], dtype=object)"
      ]
     },
     "execution_count": 17,
     "metadata": {},
     "output_type": "execute_result"
    }
   ],
   "source": [
    "# Department\n",
    "df[\"department\"].unique()"
   ]
  },
  {
   "cell_type": "code",
   "execution_count": 18,
   "id": "0e2b38ee",
   "metadata": {},
   "outputs": [],
   "source": [
    "# striping the space\n",
    "\n",
    "df[\"department\"] = df[\"department\"].str.strip()"
   ]
  },
  {
   "cell_type": "code",
   "execution_count": 19,
   "id": "76b8a835",
   "metadata": {},
   "outputs": [
    {
     "data": {
      "text/plain": [
       "array(['sweing', 'finishing'], dtype=object)"
      ]
     },
     "execution_count": 19,
     "metadata": {},
     "output_type": "execute_result"
    }
   ],
   "source": [
    "df[\"department\"].unique()"
   ]
  },
  {
   "cell_type": "code",
   "execution_count": 20,
   "id": "53c6d34b",
   "metadata": {},
   "outputs": [],
   "source": [
    "# sns.countplot(df[\"department\"] , hue = df[\"day\"])"
   ]
  },
  {
   "cell_type": "code",
   "execution_count": 21,
   "id": "d9a8b21d",
   "metadata": {},
   "outputs": [],
   "source": [
    "# Friday seems to be holiday"
   ]
  },
  {
   "cell_type": "code",
   "execution_count": 22,
   "id": "f146b9a3",
   "metadata": {},
   "outputs": [
    {
     "data": {
      "text/plain": [
       "dtype('float64')"
      ]
     },
     "execution_count": 22,
     "metadata": {},
     "output_type": "execute_result"
    }
   ],
   "source": [
    "df[\"smv\"].dtype"
   ]
  },
  {
   "cell_type": "code",
   "execution_count": 23,
   "id": "13fbb42d",
   "metadata": {},
   "outputs": [],
   "source": [
    "#sns.countplot(df[\"team\"])"
   ]
  },
  {
   "cell_type": "code",
   "execution_count": 24,
   "id": "7f8352da",
   "metadata": {},
   "outputs": [],
   "source": [
    "# Actual Productivity is the Target column which has % value ranging from 0 - 1"
   ]
  },
  {
   "cell_type": "code",
   "execution_count": 25,
   "id": "ce0a3210",
   "metadata": {},
   "outputs": [],
   "source": [
    "#df[\"actual_productivity\"] = round(df[\"actual_productivity\"]*100 ,2)"
   ]
  },
  {
   "cell_type": "markdown",
   "id": "eb783c68",
   "metadata": {},
   "source": [
    "# Checking Multi Collinearity"
   ]
  },
  {
   "cell_type": "code",
   "execution_count": 26,
   "id": "1b9e315a",
   "metadata": {},
   "outputs": [],
   "source": [
    "\n",
    "# plt.figure(figsize = (10,10))\n",
    "# sns.heatmap(df.corr() , annot = True , cmap = \"viridis\")"
   ]
  },
  {
   "cell_type": "code",
   "execution_count": 27,
   "id": "7f844caf",
   "metadata": {},
   "outputs": [],
   "source": [
    "# no.of workers and minute allocated are correlated more . But not ignoring any column as of now."
   ]
  },
  {
   "cell_type": "code",
   "execution_count": 28,
   "id": "f2ed0cde",
   "metadata": {},
   "outputs": [
    {
     "data": {
      "text/plain": [
       "Index(['quarter', 'department', 'day', 'team', 'targeted_productivity', 'smv',\n",
       "       'wip', 'over_time', 'incentive', 'idle_time', 'idle_men',\n",
       "       'no_of_style_change', 'no_of_workers', 'actual_productivity'],\n",
       "      dtype='object')"
      ]
     },
     "execution_count": 28,
     "metadata": {},
     "output_type": "execute_result"
    }
   ],
   "source": [
    "df.columns"
   ]
  },
  {
   "cell_type": "code",
   "execution_count": 29,
   "id": "1d44fa43",
   "metadata": {},
   "outputs": [],
   "source": [
    "#df_corr = df.corr()"
   ]
  },
  {
   "cell_type": "code",
   "execution_count": 30,
   "id": "b1d7046d",
   "metadata": {},
   "outputs": [],
   "source": [
    "# sns.heatmap(df_corr[[\"actual_productivity\"]].sort_values(by = 'actual_productivity' , \n",
    "#                                                          ascending = False) , annot =True , cmap =\"Greens\")"
   ]
  },
  {
   "cell_type": "code",
   "execution_count": 31,
   "id": "040493f1",
   "metadata": {},
   "outputs": [],
   "source": [
    "df.drop(columns = \"day\" , inplace =True)"
   ]
  },
  {
   "cell_type": "code",
   "execution_count": 32,
   "id": "f2cbaf6f",
   "metadata": {},
   "outputs": [
    {
     "data": {
      "text/html": [
       "<div>\n",
       "<style scoped>\n",
       "    .dataframe tbody tr th:only-of-type {\n",
       "        vertical-align: middle;\n",
       "    }\n",
       "\n",
       "    .dataframe tbody tr th {\n",
       "        vertical-align: top;\n",
       "    }\n",
       "\n",
       "    .dataframe thead th {\n",
       "        text-align: right;\n",
       "    }\n",
       "</style>\n",
       "<table border=\"1\" class=\"dataframe\">\n",
       "  <thead>\n",
       "    <tr style=\"text-align: right;\">\n",
       "      <th></th>\n",
       "      <th>quarter</th>\n",
       "      <th>department</th>\n",
       "      <th>team</th>\n",
       "      <th>targeted_productivity</th>\n",
       "      <th>smv</th>\n",
       "      <th>wip</th>\n",
       "      <th>over_time</th>\n",
       "      <th>incentive</th>\n",
       "      <th>idle_time</th>\n",
       "      <th>idle_men</th>\n",
       "      <th>no_of_style_change</th>\n",
       "      <th>no_of_workers</th>\n",
       "      <th>actual_productivity</th>\n",
       "    </tr>\n",
       "  </thead>\n",
       "  <tbody>\n",
       "    <tr>\n",
       "      <th>0</th>\n",
       "      <td>Quarter1</td>\n",
       "      <td>sweing</td>\n",
       "      <td>8</td>\n",
       "      <td>0.80</td>\n",
       "      <td>26.16</td>\n",
       "      <td>1108</td>\n",
       "      <td>7080</td>\n",
       "      <td>98</td>\n",
       "      <td>0.0</td>\n",
       "      <td>0</td>\n",
       "      <td>0</td>\n",
       "      <td>59.0</td>\n",
       "      <td>0.940725</td>\n",
       "    </tr>\n",
       "    <tr>\n",
       "      <th>1</th>\n",
       "      <td>Quarter1</td>\n",
       "      <td>finishing</td>\n",
       "      <td>1</td>\n",
       "      <td>0.75</td>\n",
       "      <td>3.94</td>\n",
       "      <td>0</td>\n",
       "      <td>960</td>\n",
       "      <td>0</td>\n",
       "      <td>0.0</td>\n",
       "      <td>0</td>\n",
       "      <td>0</td>\n",
       "      <td>8.0</td>\n",
       "      <td>0.886500</td>\n",
       "    </tr>\n",
       "    <tr>\n",
       "      <th>2</th>\n",
       "      <td>Quarter1</td>\n",
       "      <td>sweing</td>\n",
       "      <td>11</td>\n",
       "      <td>0.80</td>\n",
       "      <td>11.41</td>\n",
       "      <td>968</td>\n",
       "      <td>3660</td>\n",
       "      <td>50</td>\n",
       "      <td>0.0</td>\n",
       "      <td>0</td>\n",
       "      <td>0</td>\n",
       "      <td>30.5</td>\n",
       "      <td>0.800570</td>\n",
       "    </tr>\n",
       "    <tr>\n",
       "      <th>3</th>\n",
       "      <td>Quarter1</td>\n",
       "      <td>sweing</td>\n",
       "      <td>12</td>\n",
       "      <td>0.80</td>\n",
       "      <td>11.41</td>\n",
       "      <td>968</td>\n",
       "      <td>3660</td>\n",
       "      <td>50</td>\n",
       "      <td>0.0</td>\n",
       "      <td>0</td>\n",
       "      <td>0</td>\n",
       "      <td>30.5</td>\n",
       "      <td>0.800570</td>\n",
       "    </tr>\n",
       "    <tr>\n",
       "      <th>4</th>\n",
       "      <td>Quarter1</td>\n",
       "      <td>sweing</td>\n",
       "      <td>6</td>\n",
       "      <td>0.80</td>\n",
       "      <td>25.90</td>\n",
       "      <td>1170</td>\n",
       "      <td>1920</td>\n",
       "      <td>50</td>\n",
       "      <td>0.0</td>\n",
       "      <td>0</td>\n",
       "      <td>0</td>\n",
       "      <td>56.0</td>\n",
       "      <td>0.800382</td>\n",
       "    </tr>\n",
       "  </tbody>\n",
       "</table>\n",
       "</div>"
      ],
      "text/plain": [
       "    quarter department  team  targeted_productivity    smv   wip  over_time  \\\n",
       "0  Quarter1     sweing     8                   0.80  26.16  1108       7080   \n",
       "1  Quarter1  finishing     1                   0.75   3.94     0        960   \n",
       "2  Quarter1     sweing    11                   0.80  11.41   968       3660   \n",
       "3  Quarter1     sweing    12                   0.80  11.41   968       3660   \n",
       "4  Quarter1     sweing     6                   0.80  25.90  1170       1920   \n",
       "\n",
       "   incentive  idle_time  idle_men  no_of_style_change  no_of_workers  \\\n",
       "0         98        0.0         0                   0           59.0   \n",
       "1          0        0.0         0                   0            8.0   \n",
       "2         50        0.0         0                   0           30.5   \n",
       "3         50        0.0         0                   0           30.5   \n",
       "4         50        0.0         0                   0           56.0   \n",
       "\n",
       "   actual_productivity  \n",
       "0             0.940725  \n",
       "1             0.886500  \n",
       "2             0.800570  \n",
       "3             0.800570  \n",
       "4             0.800382  "
      ]
     },
     "execution_count": 32,
     "metadata": {},
     "output_type": "execute_result"
    }
   ],
   "source": [
    "df.head()"
   ]
  },
  {
   "cell_type": "markdown",
   "id": "30ab7f2f",
   "metadata": {},
   "source": [
    "# Outliers"
   ]
  },
  {
   "cell_type": "code",
   "execution_count": 33,
   "id": "95d7b4ac",
   "metadata": {},
   "outputs": [
    {
     "data": {
      "image/png": "[encoded data removed]",
      "text/plain": [
       "<Figure size 2000x500 with 1 Axes>"
      ]
     },
     "metadata": {},
     "output_type": "display_data"
    }
   ],
   "source": [
    "plt.figure(figsize=(20,5))\n",
    "sns.boxplot(data = df, orient ='v')\n",
    "plt.xticks(rotation=90)\n",
    "plt.show()"
   ]
  },
  {
   "cell_type": "code",
   "execution_count": 34,
   "id": "e60597a8",
   "metadata": {},
   "outputs": [
    {
     "data": {
      "image/png": "[encoded data removed]",
      "text/plain": [
       "<Figure size 2000x500 with 1 Axes>"
      ]
     },
     "metadata": {},
     "output_type": "display_data"
    }
   ],
   "source": [
    "plt.figure(figsize=(20,5))\n",
    "sns.boxplot(data = df[[\"over_time\",\"wip\",\"incentive\"]], orient ='v')\n",
    "plt.xticks(rotation=90)\n",
    "plt.show()"
   ]
  },
  {
   "cell_type": "markdown",
   "id": "db494f8f",
   "metadata": {},
   "source": [
    "# Handling Outliers"
   ]
  },
  {
   "cell_type": "code",
   "execution_count": 35,
   "id": "58118776",
   "metadata": {},
   "outputs": [
    {
     "name": "stdout",
     "output_type": "stream",
     "text": [
      "1440.0\n",
      "6960.0\n",
      "5520.0\n",
      "-6840.0\n",
      "15240.0\n"
     ]
    }
   ],
   "source": [
    "Q1 = df[\"over_time\"].quantile(0.25)\n",
    "Q3 = df[\"over_time\"].quantile(0.75)\n",
    "print(Q1)\n",
    "print(Q3)\n",
    "IQR = Q3 - Q1\n",
    "print(IQR)\n",
    "lower_limit = Q1 - 1.5*IQR\n",
    "print(lower_limit)\n",
    "upper_limit = Q3 +1.5*IQR\n",
    "print(upper_limit)"
   ]
  },
  {
   "cell_type": "code",
   "execution_count": 36,
   "id": "e3813943",
   "metadata": {},
   "outputs": [],
   "source": [
    "r = df[(df[\"over_time\"] > lower_limit) & (df[\"over_time\"] < upper_limit)]"
   ]
  },
  {
   "cell_type": "code",
   "execution_count": 37,
   "id": "55c29aa3",
   "metadata": {},
   "outputs": [
    {
     "data": {
      "text/plain": [
       "1197"
      ]
     },
     "execution_count": 37,
     "metadata": {},
     "output_type": "execute_result"
    }
   ],
   "source": [
    "df.shape[0]"
   ]
  },
  {
   "cell_type": "code",
   "execution_count": 38,
   "id": "bdcb3b3c",
   "metadata": {},
   "outputs": [],
   "source": [
    "# Function to handle outliers\n",
    "def outlier_IQR(data , cols):\n",
    "    \n",
    "    for col in cols:\n",
    "        \n",
    "        print(col)\n",
    "    \n",
    "        Q1 = data[col].quantile(0.25)\n",
    "        Q3 = data[col].quantile(0.75)\n",
    "        IQR = Q3 - Q1\n",
    "    \n",
    "        lower_limit = Q1 - 1.5*IQR\n",
    "        print(\"lower limit for column\",col,\"is:\",lower_limit)\n",
    "    \n",
    "        upper_limit = Q3 + 1.5*IQR\n",
    "        print(\"upper limit for column\",col,\"is:\",upper_limit)\n",
    "    \n",
    "        data = data[(df[col] > lower_limit) & (data[col] < upper_limit)]\n",
    "        \n",
    "    \n",
    "    return(data)\n",
    "    "
   ]
  },
  {
   "cell_type": "code",
   "execution_count": 39,
   "id": "cc8c6759",
   "metadata": {},
   "outputs": [
    {
     "name": "stdout",
     "output_type": "stream",
     "text": [
      "over_time\n",
      "lower limit for column over_time is: -6840.0\n",
      "upper limit for column over_time is: 15240.0\n",
      "wip\n",
      "lower limit for column wip is: -1624.875\n",
      "upper limit for column wip is: 2708.125\n",
      "incentive\n",
      "lower limit for column incentive is: -75.0\n",
      "upper limit for column incentive is: 125.0\n"
     ]
    }
   ],
   "source": [
    "outlier_cols = [\"over_time\" , \"wip\" ,\"incentive\"]\n",
    "df_outlier = outlier_IQR(df , outlier_cols)"
   ]
  },
  {
   "cell_type": "code",
   "execution_count": 40,
   "id": "b050038b",
   "metadata": {},
   "outputs": [
    {
     "data": {
      "text/plain": [
       "(1176, 13)"
      ]
     },
     "execution_count": 40,
     "metadata": {},
     "output_type": "execute_result"
    }
   ],
   "source": [
    "df_outlier.shape"
   ]
  },
  {
   "cell_type": "code",
   "execution_count": 41,
   "id": "68da8ee1",
   "metadata": {},
   "outputs": [
    {
     "data": {
      "image/png": "[encoded data removed]",
      "text/plain": [
       "<Figure size 2000x500 with 1 Axes>"
      ]
     },
     "metadata": {},
     "output_type": "display_data"
    }
   ],
   "source": [
    "plt.figure(figsize=(20,5))\n",
    "sns.boxplot(data = df_outlier[[\"over_time\",\"wip\",\"incentive\"]], orient ='v')\n",
    "plt.xticks(rotation=90)\n",
    "plt.show()"
   ]
  },
  {
   "cell_type": "markdown",
   "id": "ba627b45",
   "metadata": {},
   "source": [
    "# Preprocessing "
   ]
  },
  {
   "cell_type": "code",
   "execution_count": 42,
   "id": "fd287e30",
   "metadata": {},
   "outputs": [],
   "source": [
    "cat_cols = df_outlier.select_dtypes(\"object\").columns"
   ]
  },
  {
   "cell_type": "code",
   "execution_count": 43,
   "id": "8d0b07b4",
   "metadata": {},
   "outputs": [],
   "source": [
    "from sklearn.preprocessing import LabelEncoder\n",
    "le = LabelEncoder()"
   ]
  },
  {
   "cell_type": "code",
   "execution_count": 44,
   "id": "3e4398f4",
   "metadata": {},
   "outputs": [],
   "source": [
    "for i in cat_cols:\n",
    "    df_outlier[i] = le.fit_transform(df_outlier[i])"
   ]
  },
  {
   "cell_type": "code",
   "execution_count": 45,
   "id": "ee8ea5f1",
   "metadata": {},
   "outputs": [],
   "source": [
    "# Have X and Y dataframes for Model Building\n",
    "X = df_outlier.drop(columns = [\"actual_productivity\"])\n",
    "y = df_outlier[\"actual_productivity\"]"
   ]
  },
  {
   "cell_type": "code",
   "execution_count": 46,
   "id": "c9f2a7c7",
   "metadata": {},
   "outputs": [],
   "source": [
    "# Standard Scaling Training Dataset\n",
    "from sklearn.preprocessing import StandardScaler\n",
    "ss = StandardScaler()"
   ]
  },
  {
   "cell_type": "code",
   "execution_count": 47,
   "id": "b5cd7386",
   "metadata": {},
   "outputs": [],
   "source": [
    "from sklearn.linear_model import LinearRegression\n",
    "lr = LinearRegression()\n",
    "from sklearn.ensemble import RandomForestRegressor\n",
    "rf = RandomForestRegressor()\n",
    "from sklearn.tree import DecisionTreeRegressor\n",
    "dtr = DecisionTreeRegressor()\n",
    "import xgboost\n",
    "from xgboost import XGBRegressor\n",
    "xgb = XGBRegressor()\n",
    "from sklearn.ensemble import GradientBoostingRegressor\n",
    "gb = GradientBoostingRegressor()\n",
    "from sklearn.ensemble import AdaBoostRegressor\n",
    "adb = AdaBoostRegressor()"
   ]
  },
  {
   "cell_type": "code",
   "execution_count": 48,
   "id": "8c1bfac5",
   "metadata": {},
   "outputs": [],
   "source": [
    "from sklearn.model_selection import train_test_split"
   ]
  },
  {
   "cell_type": "code",
   "execution_count": 49,
   "id": "b7a34f84",
   "metadata": {},
   "outputs": [
    {
     "data": {
      "text/plain": [
       "((823, 12), (353, 12), (823,), (353,))"
      ]
     },
     "execution_count": 49,
     "metadata": {},
     "output_type": "execute_result"
    }
   ],
   "source": [
    "xtrain , xtest , ytrain , ytest = train_test_split(X , y ,test_size =0.3 , random_state= 30)\n",
    "columns_x = xtrain.columns\n",
    "xtrain.shape , xtest.shape , ytrain.shape , ytest.shape\n"
   ]
  },
  {
   "cell_type": "code",
   "execution_count": 50,
   "id": "21edaee2",
   "metadata": {},
   "outputs": [],
   "source": [
    "from sklearn.metrics import mean_squared_error , r2_score ,mean_absolute_error"
   ]
  },
  {
   "cell_type": "code",
   "execution_count": 51,
   "id": "2cb5ac09",
   "metadata": {},
   "outputs": [],
   "source": [
    "# df_ss = pd.DataFrame(ss.fit_transform(xtrain))\n",
    "# df_ss.columns = xtrain.columns\n",
    "# df_ss.head()"
   ]
  },
  {
   "cell_type": "code",
   "execution_count": 52,
   "id": "d3dc7c6d",
   "metadata": {},
   "outputs": [],
   "source": [
    "xtrain = ss.fit_transform(xtrain)\n",
    "xtest = ss.transform(xtest)"
   ]
  },
  {
   "cell_type": "code",
   "execution_count": 53,
   "id": "b47216d7",
   "metadata": {},
   "outputs": [],
   "source": [
    "# xtrain  = pd.DataFrame(xtrain)\n",
    "# xtest = pd.DataFrame(xtest)\n",
    "# xtrain.columns = columns_x\n",
    "# xtest.columns = columns_x\n",
    "# print(xtrain.head())"
   ]
  },
  {
   "cell_type": "code",
   "execution_count": 54,
   "id": "875d275e",
   "metadata": {},
   "outputs": [],
   "source": [
    "import pickle\n",
    "pickle.dump(ss , open('scaling.pkl' , 'wb'))"
   ]
  },
  {
   "cell_type": "markdown",
   "id": "70a291d7",
   "metadata": {},
   "source": [
    "#  Function to run different algorithms and getting their metrics"
   ]
  },
  {
   "cell_type": "code",
   "execution_count": 55,
   "id": "64b8365d",
   "metadata": {},
   "outputs": [],
   "source": [
    "def model_metrics(algos):\n",
    "    \n",
    "    res = pd.DataFrame()\n",
    "    df_pred_all = pd.DataFrame()\n",
    "    \n",
    "    \n",
    "    for algo in algos:\n",
    "        \n",
    "        #print(algo)\n",
    "        \n",
    "        algo.fit(xtrain , ytrain)\n",
    "        \n",
    "        y_pred_train = algo.predict(xtrain)\n",
    "        y_pred = algo.predict(xtest)\n",
    "\n",
    "\n",
    "        df_pred = pd.DataFrame({\"actual\" : ytest ,\n",
    "                                \"predicted\" : y_pred,\n",
    "                               \"algo\" : str(algo).split(\"(\")[0]})\n",
    "                \n",
    "        df_pred_train = pd.DataFrame({\"actual\" : ytrain ,\n",
    "                                \"predicted_train\" : y_pred_train})\n",
    "        \n",
    "        #df_pred_all = df_pred_all.append(df_pred)\n",
    "        df_pred_all = pd.concat([df_pred_all, df_pred], ignore_index=True)\n",
    "        \n",
    "        mse = mean_squared_error(df_pred[\"actual\"] , df_pred[\"predicted\"])\n",
    "        mae = mean_absolute_error(df_pred[\"actual\"] , df_pred[\"predicted\"])\n",
    "        r2score = r2_score(df_pred[\"actual\"] , df_pred[\"predicted\"])\n",
    "        \n",
    "    # Adjusted R-square : 1 - [(1-Rsquare)*(n - 1) / (n - k - 1)] n = no.of sample , k =no.of.features\n",
    "        #adj_r2score = 1 - [((1-r2score)*(len(ytest)-1))/(len(ytest)-xtest.shape[1]-1)]\n",
    "        \n",
    "        mse_train = mean_squared_error(df_pred_train[\"actual\"] , df_pred_train[\"predicted_train\"])\n",
    "        mae_train = mean_absolute_error(df_pred_train[\"actual\"] , df_pred_train[\"predicted_train\"])\n",
    "        r2score_train = r2_score(df_pred_train[\"actual\"] , df_pred_train[\"predicted_train\"])\n",
    "       \n",
    "        \n",
    "        df_metric = pd.DataFrame({'model' : str(algo).split(\"(\")[0],\n",
    "                                  \"mse\" : [mse], \n",
    "                                  #\"mae\" : [mae],\n",
    "                                  \"r2score\" : [r2score],\n",
    "                                  \"mse_train\" :[mse_train],\n",
    "                                  #\"mae_train\" :[mae_train],\n",
    "                                 \"r2score_train\" : [r2score_train]\n",
    "                                 })\n",
    "\n",
    "        \n",
    "        #res = res.append(df_metric)\n",
    "        res = pd.concat([res, df_metric], ignore_index=True)\n",
    "     \n",
    "    print(res)\n",
    "    #print(tabulate(res , headers='keys', tablefmt='psql'))\n",
    "    \n",
    "    print(\"The Lowest MSE model is :\")\n",
    "    model_good = pd.DataFrame(res.iloc[res[\"mse\"].argmin()]).T.set_index('model')\n",
    "    print(tabulate(model_good , headers ='keys' , tablefmt = 'psql'))\n",
    "\n",
    "    return df_pred_all\n",
    "        "
   ]
  },
  {
   "cell_type": "code",
   "execution_count": 56,
   "id": "76bf86e9",
   "metadata": {},
   "outputs": [],
   "source": [
    "# def model_metrics(algos):\n",
    "#     res = pd.DataFrame()\n",
    "    \n",
    "    \n",
    "#     for algo in algos:\n",
    "        \n",
    "#         #print(algo)\n",
    "        \n",
    "#         algo.fit(xtrain , ytrain)\n",
    "        \n",
    "#         y_pred_train = algo.predict(xtrain)\n",
    "#         y_pred = algo.predict(xtest)\n",
    "\n",
    "        \n",
    "#         df_pred = pd.DataFrame({\"actual\" : ytest ,\n",
    "#                                 \"predicted\" : y_pred})\n",
    "        \n",
    "#         df_pred_train = pd.DataFrame({\"actual\" : ytrain ,\n",
    "#                                 \"predicted_train\" : y_pred_train})\n",
    "        \n",
    "#         mse = mean_squared_error(df_pred[\"actual\"] , df_pred[\"predicted\"])\n",
    "#         mae = mean_absolute_error(df_pred[\"actual\"] , df_pred[\"predicted\"])\n",
    "        \n",
    "#         mse_train = mean_squared_error(df_pred_train[\"actual\"] , df_pred_train[\"predicted_train\"])\n",
    "#         mae_train = mean_absolute_error(df_pred_train[\"actual\"] , df_pred_train[\"predicted_train\"])\n",
    "#         #print(mse_train , mae_train)\n",
    "        \n",
    "#         #r2score = r2_score(df_pred[\"actual\"] , df_pred[\"predicted\"])\n",
    "       \n",
    "        \n",
    "#         df_metric = pd.DataFrame({'model' : str(algo),\n",
    "#                                   \"mse\" : [mse], \n",
    "#                                   \"mae\" : [mae],\n",
    "#                                   \"mse_train\" :[mse_train],\n",
    "#                                   \"mae_train\" :[mae_train]\n",
    "#                                   #\"r2_score\" : [r2score]\n",
    "#                                  })\n",
    "#         res = res.append(df_metric)\n",
    "        \n",
    "#         #plt.figure(figsize=(8, 6))\n",
    "        \n",
    "        \n",
    "        \n",
    "#         plt.subplot(1, 2, 1)  # Create a subplot for test data regplot\n",
    "#         sns.regplot(data=df_pred, x=\"actual\", y=\"predicted\", label=str(algo))\n",
    "#         plt.title(\"Actual vs Predicted - Test Data\")\n",
    "        \n",
    "#         plt.subplot(1, 2, 2)  # Create a subplot for train data regplot\n",
    "#         sns.regplot(data=df_pred_train, x=\"actual\", y=\"predicted_train\", label=str(algo))\n",
    "#         plt.title(\"Actual vs Predicted - Train Data\")\n",
    "        \n",
    "#         plt.tight_layout()  # Adjust the spacing between subplots\n",
    "        \n",
    "\n",
    "        \n",
    "#     plt.legend() \n",
    "#     return res.set_index('model')\n",
    "\n",
    "        "
   ]
  },
  {
   "cell_type": "code",
   "execution_count": 57,
   "id": "247a516c",
   "metadata": {},
   "outputs": [
    {
     "name": "stdout",
     "output_type": "stream",
     "text": [
      "                       model       mse   r2score  mse_train  r2score_train\n",
      "0           LinearRegression  0.021653  0.316585   0.017530       0.407366\n",
      "1      RandomForestRegressor  0.017996  0.432003   0.003488       0.882075\n",
      "2  GradientBoostingRegressor  0.016903  0.466525   0.009943       0.663840\n",
      "3               XGBRegressor  0.018265  0.423526   0.002107       0.928764\n",
      "The Lowest MSE model is :\n",
      "+---------------------------+-----------+-----------+-------------+-----------------+\n",
      "| model                     |       mse |   r2score |   mse_train |   r2score_train |\n",
      "|---------------------------+-----------+-----------+-------------+-----------------|\n",
      "| GradientBoostingRegressor | 0.0169026 |  0.466525 |  0.00994328 |         0.66384 |\n",
      "+---------------------------+-----------+-----------+-------------+-----------------+\n"
     ]
    }
   ],
   "source": [
    "val = model_metrics([lr , rf , gb , xgb])"
   ]
  },
  {
   "cell_type": "code",
   "execution_count": 58,
   "id": "87688c96",
   "metadata": {},
   "outputs": [],
   "source": [
    "# # Create subplots\n",
    "\n",
    "# models = val['algo'].unique()\n",
    "# #print(models)\n",
    "\n",
    "# fig, axes = plt.subplots(nrows=1, ncols=len(models), figsize=(12, 4))\n",
    "\n",
    "# palette = sns.color_palette('Set2', n_colors=len(models))\n",
    "\n",
    "# for i, category in enumerate(models):\n",
    "#     ax = axes[i]\n",
    "#     subset = val[val['algo'] == category]\n",
    "#     sns.regplot(subset['actual'], subset['predicted'] , ax=ax, color=palette[i])\n",
    "#     ax.set_title(f'Alg : {category}')\n",
    "\n",
    "\n",
    "# plt.suptitle(\"Actual Vs Predicted for Test Data\" , fontsize = 20)\n",
    "# plt.tight_layout()"
   ]
  },
  {
   "cell_type": "code",
   "execution_count": 59,
   "id": "e15c38b4",
   "metadata": {},
   "outputs": [],
   "source": [
    "# lr Feature Importance\n",
    "feature_importance_lr = lr.coef_\n",
    "\n",
    "importance_lr = pd.DataFrame({'Feature': X.columns, 'Importance': feature_importance_lr})\n",
    "\n",
    "importance_lr = importance_lr.sort_values(by='Importance', ascending=False)\n",
    "#print(importance_lr)\n",
    "# RF Feature Importance\n",
    "feature_importance_rf = rf.feature_importances_\n",
    "\n",
    "importance_rf = pd.DataFrame({'Feature': X.columns, 'Importance': feature_importance_rf})\n",
    "\n",
    "importance_rf = importance_rf.sort_values(by='Importance', ascending=False)\n",
    "#print(importance_rf)\n",
    "\n",
    "# GradientBoost Feature Importance\n",
    "feature_importance_gb = gb.feature_importances_\n",
    "\n",
    "importance_gb = pd.DataFrame({'Feature': X.columns, 'Importance': feature_importance_gb})\n",
    "\n",
    "importance_gb = importance_gb.sort_values(by='Importance', ascending=False)"
   ]
  },
  {
   "cell_type": "markdown",
   "id": "6c00f819",
   "metadata": {},
   "source": [
    "# Plotting the Feature Importance "
   ]
  },
  {
   "cell_type": "code",
   "execution_count": 60,
   "id": "6c0099e6",
   "metadata": {},
   "outputs": [
    {
     "data": {
      "image/png": "[encoded data removed]",
      "text/plain": [
       "<Figure size 1000x1000 with 1 Axes>"
      ]
     },
     "metadata": {},
     "output_type": "display_data"
    },
    {
     "data": {
      "image/png": "[encoded data removed]",
      "text/plain": [
       "<Figure size 1000x1000 with 1 Axes>"
      ]
     },
     "metadata": {},
     "output_type": "display_data"
    },
    {
     "data": {
      "image/png": "[encoded data removed]",
      "text/plain": [
       "<Figure size 1000x1000 with 1 Axes>"
      ]
     },
     "metadata": {},
     "output_type": "display_data"
    },
    {
     "data": {
      "text/plain": [
       "<Figure size 640x480 with 0 Axes>"
      ]
     },
     "metadata": {},
     "output_type": "display_data"
    }
   ],
   "source": [
    "plt.figure(figsize = (10,10))\n",
    "plt.subplot(3,1,1)\n",
    "sns.barplot(data = importance_lr , x = \"Importance\" ,y =\"Feature\")\n",
    "plt.xticks(rotation = 90)\n",
    "plt.show()\n",
    "\n",
    "plt.figure(figsize = (10,10))\n",
    "plt.subplot(3,1,2)\n",
    "sns.barplot(data = importance_rf , x = \"Importance\" ,y =\"Feature\")\n",
    "plt.xticks(rotation = 90)\n",
    "plt.show()\n",
    "\n",
    "\n",
    "plt.figure(figsize = (10,10))\n",
    "plt.subplot(3,1,3)\n",
    "sns.barplot(data = importance_gb , x = \"Importance\" ,y =\"Feature\")\n",
    "plt.xticks(rotation = 90)\n",
    "plt.show()\n",
    "\n",
    "plt.tight_layout()"
   ]
  },
  {
   "cell_type": "code",
   "execution_count": 61,
   "id": "97e5f964",
   "metadata": {},
   "outputs": [],
   "source": [
    "# from sklearn.tree import plot_tree\n",
    "# plt.figure(figsize=(12, 6))\n",
    "# plot_tree(dt, filled=True)\n",
    "# plt.show()"
   ]
  },
  {
   "cell_type": "code",
   "execution_count": 62,
   "id": "9977774f",
   "metadata": {},
   "outputs": [
    {
     "data": {
      "text/plain": [
       "array([0.83095446])"
      ]
     },
     "execution_count": 62,
     "metadata": {},
     "output_type": "execute_result"
    }
   ],
   "source": [
    "# Try prediction for some random rows\n",
    "gb.predict([xtrain[0]])"
   ]
  },
  {
   "cell_type": "code",
   "execution_count": 63,
   "id": "819dba97",
   "metadata": {},
   "outputs": [
    {
     "data": {
      "text/plain": [
       "dtype('float64')"
      ]
     },
     "execution_count": 63,
     "metadata": {},
     "output_type": "execute_result"
    }
   ],
   "source": [
    "xtrain[0].dtype"
   ]
  },
  {
   "cell_type": "code",
   "execution_count": 64,
   "id": "a34703ea",
   "metadata": {},
   "outputs": [
    {
     "data": {
      "text/plain": [
       "array([0.93612771])"
      ]
     },
     "execution_count": 64,
     "metadata": {},
     "output_type": "execute_result"
    }
   ],
   "source": [
    "gb.predict([[-1.20126539,  0.84321925,  0.43718126,  0.71980038,  0.98056312,\n",
    "        0.90044   ,  0.76923169,  2.37030984, -0.06135122, -0.1237932 ,\n",
    "       -0.34966639,  1.09173831]])"
   ]
  },
  {
   "cell_type": "code",
   "execution_count": 65,
   "id": "ced47759",
   "metadata": {},
   "outputs": [
    {
     "data": {
      "text/plain": [
       "array([0.69467282])"
      ]
     },
     "execution_count": 65,
     "metadata": {},
     "output_type": "execute_result"
    }
   ],
   "source": [
    "gb.predict(ss.transform([X.iloc[10]]))"
   ]
  },
  {
   "cell_type": "code",
   "execution_count": 66,
   "id": "003f0e4b",
   "metadata": {},
   "outputs": [
    {
     "name": "stdout",
     "output_type": "stream",
     "text": [
      "[quarter                     0.00\n",
      "department                  1.00\n",
      "team                        1.00\n",
      "targeted_productivity       0.75\n",
      "smv                        28.08\n",
      "wip                       681.00\n",
      "over_time                6900.00\n",
      "incentive                  45.00\n",
      "idle_time                   0.00\n",
      "idle_men                    0.00\n",
      "no_of_style_change          0.00\n",
      "no_of_workers              57.50\n",
      "Name: 9, dtype: float64]\n"
     ]
    }
   ],
   "source": [
    "ch_predict = [X.iloc[9]]\n",
    "print(ch_predict)\n"
   ]
  },
  {
   "cell_type": "code",
   "execution_count": 67,
   "id": "da938c1a",
   "metadata": {},
   "outputs": [
    {
     "data": {
      "text/plain": [
       "array([0.77364505])"
      ]
     },
     "execution_count": 67,
     "metadata": {},
     "output_type": "execute_result"
    }
   ],
   "source": [
    "gb.predict(ss.transform(ch_predict))"
   ]
  },
  {
   "cell_type": "code",
   "execution_count": 68,
   "id": "2c31f8ea",
   "metadata": {},
   "outputs": [
    {
     "data": {
      "text/plain": [
       "0.750427826"
      ]
     },
     "execution_count": 68,
     "metadata": {},
     "output_type": "execute_result"
    }
   ],
   "source": [
    "y[9]"
   ]
  },
  {
   "cell_type": "code",
   "execution_count": 69,
   "id": "262640b8",
   "metadata": {},
   "outputs": [],
   "source": [
    "# crossvalidation=KFold(n_splits=10,shuffle=True,random_state=1)\n",
    "# crossvalidation"
   ]
  },
  {
   "cell_type": "code",
   "execution_count": 70,
   "id": "b683641d",
   "metadata": {},
   "outputs": [],
   "source": [
    "\n",
    "# search_grid={'n_estimators':[500,1000,1500],\n",
    "#              'learning_rate':[.001,0.01,.1],\n",
    "#              'max_depth':[1,2,4],\n",
    "#              'subsample':[.5,.75,1],\n",
    "#              'random_state':[1]}\n",
    "\n",
    "# search=GridSearchCV(estimator = gb,\n",
    "#                     param_grid=search_grid,\n",
    "#                     scoring='neg_mean_squared_error',\n",
    "#                     n_jobs=1,\n",
    "#                     cv=crossvalidation)\n"
   ]
  },
  {
   "cell_type": "code",
   "execution_count": 71,
   "id": "5764aeb8",
   "metadata": {},
   "outputs": [],
   "source": [
    "# st_time = time.time()\n",
    "# search.fit(xtrain,ytrain)\n",
    "# search.best_params_\n",
    "# end_time = time.time()\n",
    "# print(\"elapsed_time_is : \" ,end_time-st_time)"
   ]
  },
  {
   "cell_type": "markdown",
   "id": "5be998e3",
   "metadata": {},
   "source": [
    "#  Pickling the model file for Deployment\n"
   ]
  },
  {
   "cell_type": "code",
   "execution_count": 72,
   "id": "c9fed969",
   "metadata": {},
   "outputs": [],
   "source": [
    "import picklebi"
   ]
  },
  {
   "cell_type": "code",
   "execution_count": 73,
   "id": "2b27e831",
   "metadata": {},
   "outputs": [],
   "source": [
    "pickle.dump(gb, open('gradient_model.pkl','wb'))"
   ]
  },
  {
   "cell_type": "code",
   "execution_count": 74,
   "id": "52712ba4",
   "metadata": {},
   "outputs": [],
   "source": [
    "# Load the pickle file for checking\n",
    "pkl_model = pickle.load(open('gradient_model.pkl' , 'rb'))"
   ]
  },
  {
   "cell_type": "code",
   "execution_count": 75,
   "id": "6f76bbd1",
   "metadata": {},
   "outputs": [
    {
     "data": {
      "text/plain": [
       "array([0.69467282])"
      ]
     },
     "execution_count": 75,
     "metadata": {},
     "output_type": "execute_result"
    }
   ],
   "source": [
    "pkl_model.predict(ss.transform([X.iloc[10]]))"
   ]
  },
  {
   "cell_type": "code",
   "execution_count": 76,
   "id": "67b0901e",
   "metadata": {},
   "outputs": [
    {
     "data": {
      "text/plain": [
       "quarter                     0.00\n",
       "department                  1.00\n",
       "team                        9.00\n",
       "targeted_productivity       0.70\n",
       "smv                        28.08\n",
       "wip                       872.00\n",
       "over_time                6900.00\n",
       "incentive                  44.00\n",
       "idle_time                   0.00\n",
       "idle_men                    0.00\n",
       "no_of_style_change          0.00\n",
       "no_of_workers              57.50\n",
       "Name: 10, dtype: float64"
      ]
     },
     "execution_count": 76,
     "metadata": {},
     "output_type": "execute_result"
    }
   ],
   "source": [
    "X.iloc[10]"
   ]
  },
  {
   "cell_type": "code",
   "execution_count": 6,
   "id": "496d3ba7",
   "metadata": {},
   "outputs": [],
   "source": [
    "dat = {\n",
    "\t\t\"quarter\": 0.00,\n",
    "\t\t\"department\": 1.00,\n",
    "\t\t\"team\": 9.00,\n",
    "\t\t\"targeted_productivity\": 0.70,\n",
    "\t\t\"smv\": 28.08,\n",
    "\t\t\"wip\": 872.00,\n",
    "\t\t\"over_time\": 6900.00,\n",
    "\t\t\"incentive\": 44.00,\n",
    "\t\t\"idle_time\": 0.00,\n",
    "\t\t\"idle_men\": 0.00,\n",
    "\t\t\"no_of_style_change\": 0.00,\n",
    "\t\t\"no_of_workers\": 57.50\n",
    "\t}\n",
    "\n",
    "\n"
   ]
  },
  {
   "cell_type": "code",
   "execution_count": 13,
   "id": "2d6e1b42",
   "metadata": {},
   "outputs": [
    {
     "name": "stdout",
     "output_type": "stream",
     "text": [
      "[0.77626502]\n"
     ]
    }
   ],
   "source": [
    "import numpy as np\n",
    "import pickle\n",
    "model_gb = pickle.load(open(\"gradient_model.pkl\",\"rb\"))\n",
    "scalar = pickle.load(open('scaling.pkl' , 'rb'))\n",
    "print(model_gb.predict((np.array(list(dat.values())).reshape(1,-1))))"
   ]
  },
  {
   "cell_type": "code",
   "execution_count": 11,
   "id": "5eff455b",
   "metadata": {},
   "outputs": [
    {
     "ename": "TypeError",
     "evalue": "'NoneType' object is not subscriptable",
     "output_type": "error",
     "traceback": [
      "\u001b[1;31m---------------------------------------------------------------------------\u001b[0m",
      "\u001b[1;31mTypeError\u001b[0m                                 Traceback (most recent call last)",
      "Cell \u001b[1;32mIn[11], line 1\u001b[0m\n\u001b[1;32m----> 1\u001b[0m val[\u001b[39m0\u001b[39;49m]\n",
      "\u001b[1;31mTypeError\u001b[0m: 'NoneType' object is not subscriptable"
     ]
    }
   ],
   "source": []
  },
  {
   "cell_type": "code",
   "execution_count": 5,
   "id": "44161661",
   "metadata": {},
   "outputs": [
    {
     "data": {
      "text/plain": [
       "dict_keys(['data'])"
      ]
     },
     "execution_count": 5,
     "metadata": {},
     "output_type": "execute_result"
    }
   ],
   "source": [
    "dat.keys()"
   ]
  },
  {
   "cell_type": "code",
   "execution_count": null,
   "id": "e90bd582",
   "metadata": {},
   "outputs": [],
   "source": []
  }
 ],
 "metadata": {
  "kernelspec": {
   "display_name": "Python 3 (ipykernel)",
   "language": "python",
   "name": "python3"
  },
  "language_info": {
   "codemirror_mode": {
    "name": "ipython",
    "version": 3
   },
   "file_extension": ".py",
   "mimetype": "text/x-python",
   "name": "python",
   "nbconvert_exporter": "python",
   "pygments_lexer": "ipython3",
   "version": "3.11.4"
  }
 },
 "nbformat": 4,
 "nbformat_minor": 5
}
